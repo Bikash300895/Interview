{
 "cells": [
  {
   "cell_type": "markdown",
   "metadata": {},
   "source": [
    "# Manacher's Algorithm"
   ]
  },
  {
   "cell_type": "markdown",
   "metadata": {},
   "source": [
    "Linear time Manacher's algorithm to find longest palindromic substring.\n",
    "There are 4 cases to handle\n",
    "\n",
    "Case 1 : Right side palindrome is totally contained under current palindrome.This means it is totally under the current palindrome. So, nothing better is possible. In this case do not consider this as center.\n",
    "\n",
    "Case 2 : Current palindrome is proper suffix of input. Means it spans all the way to the end. Terminate the loop in this case. No better palindrom will be found on right.\n",
    "\n",
    "Case 3 : Right side palindrome is proper suffix and its corresponding left side palindrome is proper prefix of current palindrome. Make largest such point as next center.\n",
    "\n",
    "Case 4 : Right side palindrome is proper suffix but its left corresponding palindrome is be beyond current palindrome. Do not consider this as center because it will not extend at all.\n",
    "\n",
    "To handle even size palindromes replace input string with one containing $ between every input character and in start and end."
   ]
  },
  {
   "cell_type": "code",
   "execution_count": 1,
   "metadata": {
    "collapsed": false
   },
   "outputs": [
    {
     "name": "stdout",
     "output_type": "stream",
     "text": [
      "$a$b$b$a$b$b$a$g$\n"
     ]
    }
   ],
   "source": [
    "input_string=\"abbabbag\"\n",
    "\n",
    "n = len(input_string)\n",
    "word=\"$\"\n",
    "\n",
    "for i in range(n):\n",
    "    word = word+input_string[i]+'$'\n",
    "print(word)\n"
   ]
  },
  {
   "cell_type": "code",
   "execution_count": null,
   "metadata": {
    "collapsed": true
   },
   "outputs": [],
   "source": [
    "n = n*n+1\n",
    "T = [[0 for i in range(n)] for j in range(n)]\n",
    "\n",
    "start=end=0\n",
    "\n",
    "for i in range(n):\n",
    "    "
   ]
  }
 ],
 "metadata": {
  "anaconda-cloud": {},
  "kernelspec": {
   "display_name": "Python [conda root]",
   "language": "python",
   "name": "conda-root-py"
  },
  "language_info": {
   "codemirror_mode": {
    "name": "ipython",
    "version": 3
   },
   "file_extension": ".py",
   "mimetype": "text/x-python",
   "name": "python",
   "nbconvert_exporter": "python",
   "pygments_lexer": "ipython3",
   "version": "3.5.2"
  }
 },
 "nbformat": 4,
 "nbformat_minor": 1
}

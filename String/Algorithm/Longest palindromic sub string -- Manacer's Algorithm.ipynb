{
 "cells": [
  {
   "cell_type": "markdown",
   "metadata": {},
   "source": [
    "# Manacher's Algorithm"
   ]
  },
  {
   "cell_type": "markdown",
   "metadata": {},
   "source": [
    "Linear time Manacher's algorithm to find longest palindromic substring.\n",
    "There are 4 cases to handle\n",
    "\n",
    "Case 1 : Right side palindrome is totally contained under current palindrome.This means it is totally under the current palindrome. So, nothing better is possible. In this case do not consider this as center.\n",
    "\n",
    "Case 2 : Current palindrome is proper suffix of input. Means it spans all the way to the end. Terminate the loop in this case. No better palindrom will be found on right.\n",
    "\n",
    "Case 3 : Right side palindrome is proper suffix and its corresponding left side palindrome is proper prefix of current palindrome. Make largest such point as next center.\n",
    "\n",
    "Case 4 : Right side palindrome is proper suffix but its left corresponding palindrome is be beyond current palindrome. Do not consider this as center because it will not extend at all.\n",
    "\n",
    "To handle even size palindromes replace input string with one containing $ between every input character and in start and end."
   ]
  },
  {
   "cell_type": "code",
   "execution_count": 1,
   "metadata": {
    "collapsed": false
   },
   "outputs": [
    {
     "name": "stdout",
     "output_type": "stream",
     "text": [
      "$a$b$b$a$b$b$a$g$\n"
     ]
    }
   ],
   "source": [
    "input_string=\"abbabbag\"\n",
    "\n",
    "n = len(input_string)\n",
    "word=\"$\"\n",
    "\n",
    "for i in range(n):\n",
    "    word = word+input_string[i]+'$'\n",
    "print(word)\n"
   ]
  },
  {
   "cell_type": "code",
   "execution_count": null,
   "metadata": {
    "collapsed": false
   },
   "outputs": [],
   "source": [
    "n = n*n+1\n",
    "T = [[0 for i in range(n)] for j in range(n)]\n",
    "\n",
    "start=0\n",
    "end=0\n",
    "\n",
    "for i in range(n):\n",
    "    # expand area i. See how far we can go\n",
    "    \n",
    "    while start>0 and end<n-1 and word[start-1]==word[end+1]:\n",
    "        start-=1\n",
    "        end+=1\n",
    "    \n",
    "    T[i] = end-start+1\n",
    "    \n",
    "    # According to Case:2 if we already reach end of the string we have nothing else to check\n",
    "    if end==n-1:\n",
    "        break\n",
    "    \n",
    "    # Mark newCenter to be either end or end + 1 depending on if we dealing with even or old number input.\n",
    "    newCenter = end +  1 if i%2==0 else 0\n",
    "    \n",
    "    for j in range(i+1, end+1):\n",
    "        # i - (j - i) is left mirror. Its possible left mirror might go beyond current center palindrome. So take minimum\n",
    "        # of either left side palindrome or distance of j to end.\n",
    "        T[j] = min(T[i-(j-i)], 2*(end-j)+1)\n",
    "        \n",
    "        if(int(j+T[i-(j-1)]/2)==end):\n",
    "            newCenter = j\n",
    "            break\n",
    "    \n",
    "    i = newCenter\n",
    "    end = int(i+T[i]/2)\n",
    "    start = i - T[i]/2\n",
    "    \n",
    "print(T)"
   ]
  },
  {
   "cell_type": "code",
   "execution_count": null,
   "metadata": {
    "collapsed": true
   },
   "outputs": [],
   "source": []
  }
 ],
 "metadata": {
  "anaconda-cloud": {},
  "kernelspec": {
   "display_name": "Python [conda root]",
   "language": "python",
   "name": "conda-root-py"
  },
  "language_info": {
   "codemirror_mode": {
    "name": "ipython",
    "version": 3
   },
   "file_extension": ".py",
   "mimetype": "text/x-python",
   "name": "python",
   "nbconvert_exporter": "python",
   "pygments_lexer": "ipython3",
   "version": "3.5.2"
  }
 },
 "nbformat": 4,
 "nbformat_minor": 1
}

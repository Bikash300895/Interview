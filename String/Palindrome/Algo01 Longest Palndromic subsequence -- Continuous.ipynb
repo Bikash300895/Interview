{
 "cells": [
  {
   "cell_type": "markdown",
   "metadata": {},
   "source": [
    "# Longest Palndromic subsequence"
   ]
  },
  {
   "cell_type": "markdown",
   "metadata": {},
   "source": [
    "The time complexity can be reduced by storing results of subproblems. The idea is similar to this post. We maintain a boolean table[n][n] that is filled in bottom up manner. The value of table[i][j] is true, if the substring is palindrome, otherwise false. To calculate table[i][j], we first check the value of table[i+1][j-1], if the value is true and str[i] is same as str[j], then we make table[i][j] true. Otherwise, the value of table[i][j] is made false"
   ]
  },
  {
   "cell_type": "code",
   "execution_count": 10,
   "metadata": {
    "collapsed": false
   },
   "outputs": [
    {
     "name": "stdout",
     "output_type": "stream",
     "text": [
      "True False False False False False False \n",
      "False True False False False False False \n",
      "False False True False False False False \n",
      "False False False True False False False \n",
      "False False False False True False False \n",
      "False False False False False True False \n",
      "False False False False False False True \n"
     ]
    }
   ],
   "source": [
    "word = \"abaghba\"\n",
    "n = len(word)\n",
    "\n",
    "# Creating a table\n",
    "table = [[False for i in range(n)] for j in range(n)]\n",
    "\n",
    "# initializr the values for length one with true because string with one letter is always palindrome\n",
    "for i in range(n):\n",
    "    table[i][i] = True\n",
    "\n",
    "# Lets see the table current state\n",
    "for i in range(n):\n",
    "    for j in range(n):\n",
    "        print(table[i][j], end=' ')\n",
    "    print()\n",
    "    \n",
    "# Declare two variable start and maxLength\n",
    "start=-1\n",
    "maxLength=0"
   ]
  },
  {
   "cell_type": "code",
   "execution_count": 11,
   "metadata": {
    "collapsed": false
   },
   "outputs": [],
   "source": [
    "# Lets handle the length 2 cases first then loop for all other length\n",
    "for i in range(n-1):\n",
    "    if word[i]==word[i+1]:\n",
    "        table[i][i+1] = True\n",
    "        start = i\n",
    "        maxLength=2\n",
    "        \n",
    "for l in range(3,n+1):\n",
    "    for i in range(n-l+1):\n",
    "        j = i+l-1\n",
    "        \n",
    "        if word[i]==word[j] and table[i+1][j-1]:\n",
    "            table[i][j]=True\n",
    "            if l>maxLength:\n",
    "                maxLength=l\n",
    "                start=i"
   ]
  },
  {
   "cell_type": "markdown",
   "metadata": {},
   "source": [
    "# Printing the palindrome"
   ]
  },
  {
   "cell_type": "code",
   "execution_count": 15,
   "metadata": {
    "collapsed": false
   },
   "outputs": [
    {
     "name": "stdout",
     "output_type": "stream",
     "text": [
      "Length of palindrome is :  3\n",
      "aba"
     ]
    }
   ],
   "source": [
    "print(\"Length of palindrome is : \",maxLength)\n",
    "\n",
    "for i in range(start,start+maxLength):\n",
    "    print(word[i], end='')"
   ]
  },
  {
   "cell_type": "code",
   "execution_count": null,
   "metadata": {
    "collapsed": true
   },
   "outputs": [],
   "source": []
  }
 ],
 "metadata": {
  "anaconda-cloud": {},
  "kernelspec": {
   "display_name": "Python [conda root]",
   "language": "python",
   "name": "conda-root-py"
  },
  "language_info": {
   "codemirror_mode": {
    "name": "ipython",
    "version": 3
   },
   "file_extension": ".py",
   "mimetype": "text/x-python",
   "name": "python",
   "nbconvert_exporter": "python",
   "pygments_lexer": "ipython3",
   "version": "3.5.2"
  }
 },
 "nbformat": 4,
 "nbformat_minor": 1
}

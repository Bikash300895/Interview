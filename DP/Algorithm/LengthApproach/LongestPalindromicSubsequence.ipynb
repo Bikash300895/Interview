{
 "cells": [
  {
   "cell_type": "markdown",
   "metadata": {
    "collapsed": true
   },
   "source": [
    "# Longest Palindromic Subsequence"
   ]
  },
  {
   "cell_type": "markdown",
   "metadata": {},
   "source": [
    "Given a string s, find the longest palindromic substring in s. You may assume that the maximum length of s is 1000.\n",
    "\n",
    "## Example:\n",
    "\n",
    " Input: \"babad\"\n",
    "\n",
    " Output: \"bab\"\n",
    "\n",
    "### Note: \"aba\" is also a valid answer.\n",
    "## Example:\n",
    "\n",
    "Input: \"cbbd\"\n",
    "\n",
    "Output: \"bb\""
   ]
  },
  {
   "cell_type": "code",
   "execution_count": 1,
   "metadata": {
    "collapsed": true
   },
   "outputs": [],
   "source": [
    "word = \"agbdba\""
   ]
  },
  {
   "cell_type": "markdown",
   "metadata": {
    "collapsed": true
   },
   "source": [
    "This is a length based dynamic programming approach. We will start with length 1 and then increase it and see any match between first and last index. if so its palindromic length will be 2+table[start+1][end-1]\n",
    "\n",
    "if there is not the match then its palindromic length is max(laft, bottom)"
   ]
  },
  {
   "cell_type": "markdown",
   "metadata": {},
   "source": [
    "# Creating the table"
   ]
  },
  {
   "cell_type": "code",
   "execution_count": 2,
   "metadata": {
    "collapsed": false
   },
   "outputs": [],
   "source": [
    "n = len(word)\n",
    "T = [[0 for _ in range(n)]for _ in range(n)]\n"
   ]
  },
  {
   "cell_type": "markdown",
   "metadata": {},
   "source": [
    "## Setting all the diagonal value to one, because the letter always match with itself"
   ]
  },
  {
   "cell_type": "code",
   "execution_count": 3,
   "metadata": {
    "collapsed": true
   },
   "outputs": [],
   "source": [
    "\n",
    "for i in range(n):\n",
    "    T[i][i] = 1\n",
    "\n"
   ]
  },
  {
   "cell_type": "markdown",
   "metadata": {},
   "source": [
    "## Table create for length 1 now create it for lenth 2 to len(word)"
   ]
  },
  {
   "cell_type": "code",
   "execution_count": 4,
   "metadata": {
    "collapsed": true
   },
   "outputs": [],
   "source": [
    "for l in range(2,n+1):\n",
    "    for i in range(n-l+1):\n",
    "        j = i+l-1\n",
    "        if l==2 and word[i]==word[j]:\n",
    "            T[i][j]=2\n",
    "        elif (word[i]==word[j]):\n",
    "            T[i][j] = T[i+1][j-1] + 2\n",
    "        else:\n",
    "            T[i][j] = max(T[i+1][j], T[i][j-1])\n"
   ]
  },
  {
   "cell_type": "markdown",
   "metadata": {},
   "source": [
    "# Printing the table data"
   ]
  },
  {
   "cell_type": "code",
   "execution_count": 5,
   "metadata": {
    "collapsed": false
   },
   "outputs": [
    {
     "name": "stdout",
     "output_type": "stream",
     "text": [
      "1 1 1 1 3 5 \n",
      "\n",
      "0 1 1 1 3 3 \n",
      "\n",
      "0 0 1 1 3 3 \n",
      "\n",
      "0 0 0 1 1 1 \n",
      "\n",
      "0 0 0 0 1 1 \n",
      "\n",
      "0 0 0 0 0 1 \n",
      "\n"
     ]
    }
   ],
   "source": [
    "for i in range(n):\n",
    "    for j in range(n):\n",
    "        print(T[i][j], end=\" \")\n",
    "    print(\"\\n\")"
   ]
  },
  {
   "cell_type": "markdown",
   "metadata": {},
   "source": [
    "# Length of longest palindrome is "
   ]
  },
  {
   "cell_type": "code",
   "execution_count": 6,
   "metadata": {
    "collapsed": false
   },
   "outputs": [
    {
     "name": "stdout",
     "output_type": "stream",
     "text": [
      "Value of longest palindrome is : 5\n"
     ]
    }
   ],
   "source": [
    "print(\"Value of longest palindrome is : \"+str(T[0][n-1]))\n",
    "palindromeLen = T[0][n-1]"
   ]
  },
  {
   "cell_type": "markdown",
   "metadata": {},
   "source": [
    "# Printing the palindrome"
   ]
  }
 ],
 "metadata": {
  "anaconda-cloud": {},
  "kernelspec": {
   "display_name": "Python [conda root]",
   "language": "python",
   "name": "conda-root-py"
  },
  "language_info": {
   "codemirror_mode": {
    "name": "ipython",
    "version": 3
   },
   "file_extension": ".py",
   "mimetype": "text/x-python",
   "name": "python",
   "nbconvert_exporter": "python",
   "pygments_lexer": "ipython3",
   "version": "3.5.2"
  }
 },
 "nbformat": 4,
 "nbformat_minor": 0
}
